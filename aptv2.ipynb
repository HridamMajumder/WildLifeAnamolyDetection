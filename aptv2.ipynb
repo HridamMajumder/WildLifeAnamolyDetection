{
 "cells": [
  {
   "cell_type": "code",
   "execution_count": 1,
   "metadata": {},
   "outputs": [],
   "source": [
    "json_path = '/home/deepb/Desktop/AIDS/project/APTv2_annotations/APTv2/annotations/train_annotations.json'"
   ]
  },
  {
   "cell_type": "code",
   "execution_count": 2,
   "metadata": {},
   "outputs": [],
   "source": [
    "# load json file\n",
    "import json\n",
    "with open(json_path) as f:\n",
    "    data = json.load(f)"
   ]
  },
  {
   "cell_type": "code",
   "execution_count": 3,
   "metadata": {},
   "outputs": [
    {
     "name": "stdout",
     "output_type": "stream",
     "text": [
      "dict_keys(['info', 'images', 'annotations', 'license', 'categories'])\n"
     ]
    }
   ],
   "source": [
    "print(data.keys())"
   ]
  },
  {
   "cell_type": "code",
   "execution_count": 4,
   "metadata": {},
   "outputs": [
    {
     "name": "stdout",
     "output_type": "stream",
     "text": [
      "{'description': 'APTv2', 'url': 'https://github.com/ViTAE-Transformer/APTv2', 'version': '1.0', 'year': '2023', 'contributor': 'APTv2 Team', 'date_created': '2023/06'}\n"
     ]
    }
   ],
   "source": [
    "print(data['info'])"
   ]
  },
  {
   "cell_type": "code",
   "execution_count": 5,
   "metadata": {},
   "outputs": [
    {
     "name": "stdout",
     "output_type": "stream",
     "text": [
      "{'id': 0, 'name': 'The MIT License', 'url': 'https://www.mit.edu/~amini/LICENSE.md'}\n"
     ]
    }
   ],
   "source": [
    "print(data['license'][0])"
   ]
  },
  {
   "cell_type": "code",
   "execution_count": 6,
   "metadata": {},
   "outputs": [
    {
     "name": "stdout",
     "output_type": "stream",
     "text": [
      "{'id': 0, 'name': 'deer', 'supercategory': 'Cervidae', 'keypoints': ['left_eye', 'right_eye', 'nose', 'neck', 'root_of_tail', 'left_shoulder', 'left_elbow', 'left_front_paw', 'right_shoulder', 'right_elbow', 'right_front_paw', 'left_hip', 'left_knee', 'left_back_paw', 'right_hip', 'right_knee', 'right_back_paw'], 'skeleton': [[1, 2], [1, 3], [2, 3], [3, 4], [4, 5], [4, 6], [6, 7], [7, 8], [4, 9], [9, 10], [10, 11], [5, 12], [12, 13], [13, 14], [5, 15], [15, 16], [16, 17]]}\n",
      "30\n"
     ]
    }
   ],
   "source": [
    "print(data['categories'][0])\n",
    "print(len(data['categories']))"
   ]
  },
  {
   "cell_type": "code",
   "execution_count": 7,
   "metadata": {},
   "outputs": [
    {
     "name": "stdout",
     "output_type": "stream",
     "text": [
      "{'license': 1, 'id': 0, 'file_name': 'easy/10gorilla/v12C1/0000.jpg', 'width': 1920, 'height': 1080, 'video_id': 0}\n"
     ]
    }
   ],
   "source": [
    "print(data['images'][0])"
   ]
  },
  {
   "cell_type": "code",
   "execution_count": 8,
   "metadata": {},
   "outputs": [
    {
     "name": "stdout",
     "output_type": "stream",
     "text": [
      "{'bbox': [665.7283935546875, 81.995361328125, 592.4225498415387, 705.9291669737618], 'keypoints': [867.4381103515625, 181.20864868164062, 2, 0, 0, 0, 860.68896484375, 214.95468139648438, 2, 941.679443359375, 181.20864868164062, 2, 1066.2926829268292, 501.43902439024384, 2, 995.6729736328125, 201.45626831054688, 2, 968.6761474609375, 336.4403381347656, 2, 772.9493408203125, 282.4466857910156, 2, 0, 0, 0, 0, 0, 0, 0, 0, 0, 1110.409423828125, 538.9163818359375, 2, 1049.6666259765625, 599.6591796875, 2, 1110.409423828125, 734.6431884765625, 2, 1002.422119140625, 545.66552734375, 2, 955.177734375, 592.909912109375, 2, 921.4317626953125, 727.89404296875, 2], 'track_id': 1, 'category_id': 9, 'image_id': 435, 'video_id': 29, 'id': 455, 'num_keypoints': 13, 'is_crowd': 0, 'area': 418208.3571061093}\n"
     ]
    }
   ],
   "source": [
    "print(data['annotations'][0])"
   ]
  },
  {
   "cell_type": "code",
   "execution_count": 9,
   "metadata": {},
   "outputs": [
    {
     "name": "stdout",
     "output_type": "stream",
     "text": [
      "[0, 1, 2, 3, 4, 5, 6, 7, 8, 9, 10, 11, 12, 13, 14, 15, 16, 17, 18, 19, 20, 21, 22, 23, 24, 25, 26, 27, 28, 29]\n"
     ]
    }
   ],
   "source": [
    "category_ids = sorted({category['id'] for category in data['categories']})\n",
    "print(category_ids)"
   ]
  }
 ],
 "metadata": {
  "kernelspec": {
   "display_name": "base",
   "language": "python",
   "name": "python3"
  },
  "language_info": {
   "codemirror_mode": {
    "name": "ipython",
    "version": 3
   },
   "file_extension": ".py",
   "mimetype": "text/x-python",
   "name": "python",
   "nbconvert_exporter": "python",
   "pygments_lexer": "ipython3",
   "version": "3.12.4"
  }
 },
 "nbformat": 4,
 "nbformat_minor": 2
}
